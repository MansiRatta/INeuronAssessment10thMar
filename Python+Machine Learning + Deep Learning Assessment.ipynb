{
 "cells": [
  {
   "cell_type": "markdown",
   "id": "214a2c8e",
   "metadata": {},
   "source": [
    "# PYTHON"
   ]
  },
  {
   "cell_type": "code",
   "execution_count": 97,
   "id": "2e079913",
   "metadata": {},
   "outputs": [],
   "source": [
    "#PYTHON: Question-1"
   ]
  },
  {
   "cell_type": "code",
   "execution_count": 92,
   "id": "2e968ce8",
   "metadata": {
    "scrolled": true
   },
   "outputs": [
    {
     "name": "stdout",
     "output_type": "stream",
     "text": [
      "{'abc': ['def', 'ghi', 'jkl', 'mno', 'pqr', 'stu', 'vwx', 'yz'],\n",
      " 'def': ['ghi', 'jkl', 'mno', 'pqr', 'stu', 'vwx', 'yz'],\n",
      " 'ghi': ['jkl', 'mno', 'pqr', 'stu', 'vwx', 'yz'],\n",
      " 'jkl': ['mno', 'pqr', 'stu', 'vwx', 'yz'],\n",
      " 'mno': ['pqr', 'stu', 'vwx', 'yz'],\n",
      " 'pqr': ['stu', 'vwx', 'yz'],\n",
      " 'stu': ['vwx', 'yz'],\n",
      " 'vwx': ['yz'],\n",
      " 'yz': ['you are finally here !!!']}\n"
     ]
    }
   ],
   "source": [
    "from pprint import pprint\n",
    "\n",
    "input_dict = {\"abc\":{\"def\":{\"ghi\":{\"jkl\":{\"mno\":{\"pqr\":{\"stu\":{\"vwx\":{\"yz\":\"you are finally here !!!\"}}}}}}}}}\n",
    "\n",
    "def our_output(input_dict):\n",
    "    res = {}\n",
    "    for a, b in input_dict.items():\n",
    "        if isinstance(b, dict):\n",
    "            c = our_output(b)\n",
    "            res.update(c)\n",
    "            res[a] = list(reversed(c))\n",
    "        else:\n",
    "            res[a] = [b]\n",
    "    return res\n",
    "\n",
    "pprint(our_output(input_dict))"
   ]
  },
  {
   "cell_type": "code",
   "execution_count": 94,
   "id": "781748a4",
   "metadata": {},
   "outputs": [],
   "source": [
    "#PYTHON: Question-2"
   ]
  },
  {
   "cell_type": "code",
   "execution_count": 93,
   "id": "cff77d7a",
   "metadata": {},
   "outputs": [
    {
     "name": "stdout",
     "output_type": "stream",
     "text": [
      "3\n"
     ]
    }
   ],
   "source": [
    "def distance(stalls, K):\n",
    "    stalls.sort()\n",
    "\n",
    "    def possible(min_dist):\n",
    "        count = 1\n",
    "        last_pos = stalls[0]\n",
    "        for i in range(1, len(stalls)):\n",
    "            if stalls[i] - last_pos >= min_dist:\n",
    "                count += 1\n",
    "                last_pos = stalls[i]\n",
    "        return count >= K\n",
    "\n",
    "    left, right = 0, stalls[-1] - stalls[0]\n",
    "\n",
    "    while left <= right:\n",
    "        mid = (left + right) // 2\n",
    "        if possible(mid):\n",
    "            left = mid + 1\n",
    "        else:\n",
    "            right = mid - 1\n",
    "\n",
    "    return right\n",
    "\n",
    "# Example usage:\n",
    "stalls = [1, 2, 4, 8, 9]\n",
    "K = 3\n",
    "print(distance(stalls, K))  # Output: 3\n"
   ]
  },
  {
   "cell_type": "code",
   "execution_count": 95,
   "id": "02a20ed8",
   "metadata": {},
   "outputs": [],
   "source": [
    "#PYTHON: Question-3"
   ]
  },
  {
   "cell_type": "code",
   "execution_count": null,
   "id": "3d0c4fcb",
   "metadata": {},
   "outputs": [],
   "source": [
    "n,m = input().split()\n",
    "n = int(n)\n",
    "m = int(m)\n",
    "#printing first half\n",
    "for i in range(n//2):\n",
    "    t = int((2*i)+1)\n",
    "    print(('.|.'*t).center(m, '-'))\n",
    "#printing middle line\n",
    "print('WELCOME'.center(m,'-'))\n",
    "#printing last half\n",
    "for i in reversed(range(n//2)):\n",
    "    t = int((2*i)+1)\n",
    "    print(('.|.'*t).center(m, '-'))"
   ]
  },
  {
   "cell_type": "code",
   "execution_count": 96,
   "id": "10a1115d",
   "metadata": {},
   "outputs": [],
   "source": [
    "#PYTHON: Question-4"
   ]
  },
  {
   "cell_type": "code",
   "execution_count": 7,
   "id": "59716e81",
   "metadata": {},
   "outputs": [
    {
     "name": "stdout",
     "output_type": "stream",
     "text": [
      "[[-2, -1, 1, 2], [-2, 0, 0, 2], [-1, 0, 0, 1]]\n"
     ]
    }
   ],
   "source": [
    "def fourSum(nums, target):\n",
    "    nums.sort()\n",
    "    n = len(nums)\n",
    "    result = []\n",
    "    \n",
    "    for i in range(n - 3):\n",
    "        if i > 0 and nums[i] == nums[i - 1]:\n",
    "            continue\n",
    "            \n",
    "        for j in range(i + 1, n - 2):\n",
    "            if j > i + 1 and nums[j] == nums[j - 1]:\n",
    "                continue\n",
    "                \n",
    "            left, right = j + 1, n - 1\n",
    "            \n",
    "            while left < right:\n",
    "                total = nums[i] + nums[j] + nums[left] + nums[right]\n",
    "                \n",
    "                if total == target:\n",
    "                    result.append([nums[i], nums[j], nums[left], nums[right]])\n",
    "                    left += 1\n",
    "                    right -= 1\n",
    "                    while left < right and nums[left] == nums[left - 1]:\n",
    "                        left += 1\n",
    "                    while left < right and nums[right] == nums[right + 1]:\n",
    "                        right -= 1\n",
    "                        \n",
    "                elif total < target:\n",
    "                    left += 1\n",
    "                else:\n",
    "                    right -= 1\n",
    "    \n",
    "    return result\n",
    "\n",
    "# Example usage:\n",
    "nums = [1, 0, -1, 0, -2, 2]\n",
    "target = 0\n",
    "print(fourSum(nums, target))\n"
   ]
  },
  {
   "cell_type": "markdown",
   "id": "c3231aa2",
   "metadata": {},
   "source": [
    "# MACHINE LEARNING"
   ]
  },
  {
   "cell_type": "code",
   "execution_count": 98,
   "id": "a5c6120a",
   "metadata": {},
   "outputs": [],
   "source": [
    "#MACHINE LEARNING: Question-1"
   ]
  },
  {
   "cell_type": "code",
   "execution_count": 8,
   "id": "6514d615",
   "metadata": {},
   "outputs": [
    {
     "name": "stderr",
     "output_type": "stream",
     "text": [
      "C:\\Users\\Dell\\anaconda3\\lib\\site-packages\\numpy\\_distributor_init.py:30: UserWarning: loaded more than 1 DLL from .libs:\n",
      "C:\\Users\\Dell\\anaconda3\\lib\\site-packages\\numpy\\.libs\\libopenblas.EL2C6PLE4ZYW3ECEVIV3OXXGRN2NRFM2.gfortran-win_amd64.dll\n",
      "C:\\Users\\Dell\\anaconda3\\lib\\site-packages\\numpy\\.libs\\libopenblas.PYQHXLVVQ7VESDPUVUADXEVJOBGHJPAY.gfortran-win_amd64.dll\n",
      "  warnings.warn(\"loaded more than 1 DLL from .libs:\"\n"
     ]
    },
    {
     "data": {
      "text/html": [
       "<div>\n",
       "<style scoped>\n",
       "    .dataframe tbody tr th:only-of-type {\n",
       "        vertical-align: middle;\n",
       "    }\n",
       "\n",
       "    .dataframe tbody tr th {\n",
       "        vertical-align: top;\n",
       "    }\n",
       "\n",
       "    .dataframe thead th {\n",
       "        text-align: right;\n",
       "    }\n",
       "</style>\n",
       "<table border=\"1\" class=\"dataframe\">\n",
       "  <thead>\n",
       "    <tr style=\"text-align: right;\">\n",
       "      <th></th>\n",
       "      <th>Unnamed: 0</th>\n",
       "      <th>S.No</th>\n",
       "      <th>USERNAME</th>\n",
       "      <th>Caption</th>\n",
       "      <th>Followers</th>\n",
       "      <th>Hashtags</th>\n",
       "      <th>Time since posted</th>\n",
       "      <th>Likes</th>\n",
       "    </tr>\n",
       "  </thead>\n",
       "  <tbody>\n",
       "    <tr>\n",
       "      <th>0</th>\n",
       "      <td>0</td>\n",
       "      <td>1</td>\n",
       "      <td>mikequindazzi</td>\n",
       "      <td>Who are #DataScientist and what do they do? &gt;&gt;...</td>\n",
       "      <td>1600</td>\n",
       "      <td>#MachineLearning #AI #DataAnalytics #DataScien...</td>\n",
       "      <td>11 hours</td>\n",
       "      <td>139</td>\n",
       "    </tr>\n",
       "    <tr>\n",
       "      <th>1</th>\n",
       "      <td>1</td>\n",
       "      <td>2</td>\n",
       "      <td>drgorillapaints</td>\n",
       "      <td>We all know where it’s going. We just have to ...</td>\n",
       "      <td>880</td>\n",
       "      <td>#deck .#mac #macintosh#sayhello #apple #steve...</td>\n",
       "      <td>2 hours</td>\n",
       "      <td>23</td>\n",
       "    </tr>\n",
       "    <tr>\n",
       "      <th>2</th>\n",
       "      <td>2</td>\n",
       "      <td>3</td>\n",
       "      <td>aitrading_official</td>\n",
       "      <td>Alexander Barinov: 4 years as CFO in multinati...</td>\n",
       "      <td>255</td>\n",
       "      <td>#whoiswho #aitrading #ai #aitradingteam#instat...</td>\n",
       "      <td>2 hours</td>\n",
       "      <td>25</td>\n",
       "    </tr>\n",
       "    <tr>\n",
       "      <th>3</th>\n",
       "      <td>3</td>\n",
       "      <td>4</td>\n",
       "      <td>opensourcedworkplace</td>\n",
       "      <td>sfad</td>\n",
       "      <td>340</td>\n",
       "      <td>#iot #cre#workplace #CDO #bigdata #technology#...</td>\n",
       "      <td>3 hours</td>\n",
       "      <td>49</td>\n",
       "    </tr>\n",
       "    <tr>\n",
       "      <th>4</th>\n",
       "      <td>4</td>\n",
       "      <td>5</td>\n",
       "      <td>crea.vision</td>\n",
       "      <td>Ever missed a call while your phone was chargi...</td>\n",
       "      <td>304</td>\n",
       "      <td>#instamachinelearning #instabigdata#instamarke...</td>\n",
       "      <td>3 hours</td>\n",
       "      <td>30</td>\n",
       "    </tr>\n",
       "  </tbody>\n",
       "</table>\n",
       "</div>"
      ],
      "text/plain": [
       "   Unnamed: 0  S.No              USERNAME  \\\n",
       "0           0     1         mikequindazzi   \n",
       "1           1     2       drgorillapaints   \n",
       "2           2     3    aitrading_official   \n",
       "3           3     4  opensourcedworkplace   \n",
       "4           4     5           crea.vision   \n",
       "\n",
       "                                             Caption  Followers  \\\n",
       "0  Who are #DataScientist and what do they do? >>...       1600   \n",
       "1  We all know where it’s going. We just have to ...        880   \n",
       "2  Alexander Barinov: 4 years as CFO in multinati...        255   \n",
       "3                                               sfad        340   \n",
       "4  Ever missed a call while your phone was chargi...        304   \n",
       "\n",
       "                                            Hashtags Time since posted  Likes  \n",
       "0  #MachineLearning #AI #DataAnalytics #DataScien...          11 hours    139  \n",
       "1   #deck .#mac #macintosh#sayhello #apple #steve...           2 hours     23  \n",
       "2  #whoiswho #aitrading #ai #aitradingteam#instat...           2 hours     25  \n",
       "3  #iot #cre#workplace #CDO #bigdata #technology#...           3 hours     49  \n",
       "4  #instamachinelearning #instabigdata#instamarke...           3 hours     30  "
      ]
     },
     "execution_count": 8,
     "metadata": {},
     "output_type": "execute_result"
    }
   ],
   "source": [
    "import numpy as np\n",
    "import pandas as pd\n",
    "import matplotlib.pyplot as plt\n",
    "import seaborn as sns\n",
    "data=pd.read_csv(\"Downloads/instagram_reach (1).csv\")\n",
    "data.head()\n"
   ]
  },
  {
   "cell_type": "code",
   "execution_count": 9,
   "id": "3df9ee86",
   "metadata": {},
   "outputs": [
    {
     "data": {
      "text/plain": [
       "Unnamed: 0           0\n",
       "S.No                 0\n",
       "USERNAME             0\n",
       "Caption              6\n",
       "Followers            0\n",
       "Hashtags             0\n",
       "Time since posted    0\n",
       "Likes                0\n",
       "dtype: int64"
      ]
     },
     "execution_count": 9,
     "metadata": {},
     "output_type": "execute_result"
    }
   ],
   "source": [
    "data.isnull().sum()"
   ]
  },
  {
   "cell_type": "code",
   "execution_count": 10,
   "id": "6fa9fc3c",
   "metadata": {},
   "outputs": [
    {
     "data": {
      "text/plain": [
       "0"
      ]
     },
     "execution_count": 10,
     "metadata": {},
     "output_type": "execute_result"
    }
   ],
   "source": [
    "data.duplicated().sum()"
   ]
  },
  {
   "cell_type": "code",
   "execution_count": 11,
   "id": "746ac9f3",
   "metadata": {},
   "outputs": [
    {
     "name": "stdout",
     "output_type": "stream",
     "text": [
      "<class 'pandas.core.frame.DataFrame'>\n",
      "RangeIndex: 100 entries, 0 to 99\n",
      "Data columns (total 8 columns):\n",
      " #   Column             Non-Null Count  Dtype \n",
      "---  ------             --------------  ----- \n",
      " 0   Unnamed: 0         100 non-null    int64 \n",
      " 1   S.No               100 non-null    int64 \n",
      " 2   USERNAME           100 non-null    object\n",
      " 3   Caption            94 non-null     object\n",
      " 4   Followers          100 non-null    int64 \n",
      " 5   Hashtags           100 non-null    object\n",
      " 6   Time since posted  100 non-null    object\n",
      " 7   Likes              100 non-null    int64 \n",
      "dtypes: int64(4), object(4)\n",
      "memory usage: 6.4+ KB\n"
     ]
    }
   ],
   "source": [
    "data.info()"
   ]
  },
  {
   "cell_type": "code",
   "execution_count": 28,
   "id": "478ea098",
   "metadata": {},
   "outputs": [
    {
     "data": {
      "image/png": "[encoded data removed]",
      "text/plain": [
       "<Figure size 720x576 with 1 Axes>"
      ]
     },
     "metadata": {
      "needs_background": "light"
     },
     "output_type": "display_data"
    }
   ],
   "source": [
    "plt.figure(figsize=(10,8))\n",
    "sns.histplot(data=data, x='Followers', bins=20, kde=True)\n",
    "plt.show()"
   ]
  },
  {
   "cell_type": "code",
   "execution_count": 13,
   "id": "e825b81a",
   "metadata": {},
   "outputs": [],
   "source": [
    "from sklearn.preprocessing import LabelEncoder\n",
    "le=LabelEncoder()\n",
    "\n",
    "data['USERNAME']=le.fit_transform(data['USERNAME'])\n",
    "data['Caption']=le.fit_transform(data['Caption'])\n",
    "data['Hashtags']=le.fit_transform(data['Hashtags'])"
   ]
  },
  {
   "cell_type": "code",
   "execution_count": 14,
   "id": "bb61aab2",
   "metadata": {},
   "outputs": [
    {
     "data": {
      "text/html": [
       "<div>\n",
       "<style scoped>\n",
       "    .dataframe tbody tr th:only-of-type {\n",
       "        vertical-align: middle;\n",
       "    }\n",
       "\n",
       "    .dataframe tbody tr th {\n",
       "        vertical-align: top;\n",
       "    }\n",
       "\n",
       "    .dataframe thead th {\n",
       "        text-align: right;\n",
       "    }\n",
       "</style>\n",
       "<table border=\"1\" class=\"dataframe\">\n",
       "  <thead>\n",
       "    <tr style=\"text-align: right;\">\n",
       "      <th></th>\n",
       "      <th>Unnamed: 0</th>\n",
       "      <th>S.No</th>\n",
       "      <th>USERNAME</th>\n",
       "      <th>Caption</th>\n",
       "      <th>Followers</th>\n",
       "      <th>Hashtags</th>\n",
       "      <th>Time since posted</th>\n",
       "      <th>Likes</th>\n",
       "    </tr>\n",
       "  </thead>\n",
       "  <tbody>\n",
       "    <tr>\n",
       "      <th>0</th>\n",
       "      <td>0</td>\n",
       "      <td>1</td>\n",
       "      <td>64</td>\n",
       "      <td>86</td>\n",
       "      <td>1600</td>\n",
       "      <td>17</td>\n",
       "      <td>11</td>\n",
       "      <td>139</td>\n",
       "    </tr>\n",
       "    <tr>\n",
       "      <th>1</th>\n",
       "      <td>1</td>\n",
       "      <td>2</td>\n",
       "      <td>29</td>\n",
       "      <td>82</td>\n",
       "      <td>880</td>\n",
       "      <td>97</td>\n",
       "      <td>2</td>\n",
       "      <td>23</td>\n",
       "    </tr>\n",
       "    <tr>\n",
       "      <th>2</th>\n",
       "      <td>2</td>\n",
       "      <td>3</td>\n",
       "      <td>3</td>\n",
       "      <td>13</td>\n",
       "      <td>255</td>\n",
       "      <td>87</td>\n",
       "      <td>2</td>\n",
       "      <td>25</td>\n",
       "    </tr>\n",
       "    <tr>\n",
       "      <th>3</th>\n",
       "      <td>3</td>\n",
       "      <td>4</td>\n",
       "      <td>71</td>\n",
       "      <td>89</td>\n",
       "      <td>340</td>\n",
       "      <td>65</td>\n",
       "      <td>3</td>\n",
       "      <td>49</td>\n",
       "    </tr>\n",
       "    <tr>\n",
       "      <th>4</th>\n",
       "      <td>4</td>\n",
       "      <td>5</td>\n",
       "      <td>23</td>\n",
       "      <td>30</td>\n",
       "      <td>304</td>\n",
       "      <td>64</td>\n",
       "      <td>3</td>\n",
       "      <td>30</td>\n",
       "    </tr>\n",
       "    <tr>\n",
       "      <th>...</th>\n",
       "      <td>...</td>\n",
       "      <td>...</td>\n",
       "      <td>...</td>\n",
       "      <td>...</td>\n",
       "      <td>...</td>\n",
       "      <td>...</td>\n",
       "      <td>...</td>\n",
       "      <td>...</td>\n",
       "    </tr>\n",
       "    <tr>\n",
       "      <th>95</th>\n",
       "      <td>8</td>\n",
       "      <td>19</td>\n",
       "      <td>63</td>\n",
       "      <td>6</td>\n",
       "      <td>614</td>\n",
       "      <td>29</td>\n",
       "      <td>3</td>\n",
       "      <td>31</td>\n",
       "    </tr>\n",
       "    <tr>\n",
       "      <th>96</th>\n",
       "      <td>9</td>\n",
       "      <td>21</td>\n",
       "      <td>30</td>\n",
       "      <td>24</td>\n",
       "      <td>450</td>\n",
       "      <td>88</td>\n",
       "      <td>3</td>\n",
       "      <td>42</td>\n",
       "    </tr>\n",
       "    <tr>\n",
       "      <th>97</th>\n",
       "      <td>10</td>\n",
       "      <td>22</td>\n",
       "      <td>31</td>\n",
       "      <td>83</td>\n",
       "      <td>182</td>\n",
       "      <td>36</td>\n",
       "      <td>3</td>\n",
       "      <td>10</td>\n",
       "    </tr>\n",
       "    <tr>\n",
       "      <th>98</th>\n",
       "      <td>11</td>\n",
       "      <td>24</td>\n",
       "      <td>55</td>\n",
       "      <td>85</td>\n",
       "      <td>2039</td>\n",
       "      <td>62</td>\n",
       "      <td>3</td>\n",
       "      <td>222</td>\n",
       "    </tr>\n",
       "    <tr>\n",
       "      <th>99</th>\n",
       "      <td>12</td>\n",
       "      <td>25</td>\n",
       "      <td>73</td>\n",
       "      <td>62</td>\n",
       "      <td>741</td>\n",
       "      <td>68</td>\n",
       "      <td>3</td>\n",
       "      <td>109</td>\n",
       "    </tr>\n",
       "  </tbody>\n",
       "</table>\n",
       "<p>100 rows × 8 columns</p>\n",
       "</div>"
      ],
      "text/plain": [
       "    Unnamed: 0  S.No  USERNAME  Caption  Followers  Hashtags  \\\n",
       "0            0     1        64       86       1600        17   \n",
       "1            1     2        29       82        880        97   \n",
       "2            2     3         3       13        255        87   \n",
       "3            3     4        71       89        340        65   \n",
       "4            4     5        23       30        304        64   \n",
       "..         ...   ...       ...      ...        ...       ...   \n",
       "95           8    19        63        6        614        29   \n",
       "96           9    21        30       24        450        88   \n",
       "97          10    22        31       83        182        36   \n",
       "98          11    24        55       85       2039        62   \n",
       "99          12    25        73       62        741        68   \n",
       "\n",
       "    Time since posted  Likes  \n",
       "0                  11    139  \n",
       "1                   2     23  \n",
       "2                   2     25  \n",
       "3                   3     49  \n",
       "4                   3     30  \n",
       "..                ...    ...  \n",
       "95                  3     31  \n",
       "96                  3     42  \n",
       "97                  3     10  \n",
       "98                  3    222  \n",
       "99                  3    109  \n",
       "\n",
       "[100 rows x 8 columns]"
      ]
     },
     "execution_count": 14,
     "metadata": {},
     "output_type": "execute_result"
    }
   ],
   "source": [
    "data['Time since posted'] = data['Time since posted'].str.extract('(\\d+)').astype(int)\n",
    "data"
   ]
  },
  {
   "cell_type": "code",
   "execution_count": 15,
   "id": "f6f4ed13",
   "metadata": {},
   "outputs": [
    {
     "data": {
      "text/html": [
       "<div>\n",
       "<style scoped>\n",
       "    .dataframe tbody tr th:only-of-type {\n",
       "        vertical-align: middle;\n",
       "    }\n",
       "\n",
       "    .dataframe tbody tr th {\n",
       "        vertical-align: top;\n",
       "    }\n",
       "\n",
       "    .dataframe thead th {\n",
       "        text-align: right;\n",
       "    }\n",
       "</style>\n",
       "<table border=\"1\" class=\"dataframe\">\n",
       "  <thead>\n",
       "    <tr style=\"text-align: right;\">\n",
       "      <th></th>\n",
       "      <th>Unnamed: 0</th>\n",
       "      <th>USERNAME</th>\n",
       "      <th>Caption</th>\n",
       "      <th>Followers</th>\n",
       "      <th>Hashtags</th>\n",
       "    </tr>\n",
       "  </thead>\n",
       "  <tbody>\n",
       "    <tr>\n",
       "      <th>0</th>\n",
       "      <td>0</td>\n",
       "      <td>64</td>\n",
       "      <td>86</td>\n",
       "      <td>1600</td>\n",
       "      <td>17</td>\n",
       "    </tr>\n",
       "    <tr>\n",
       "      <th>1</th>\n",
       "      <td>1</td>\n",
       "      <td>29</td>\n",
       "      <td>82</td>\n",
       "      <td>880</td>\n",
       "      <td>97</td>\n",
       "    </tr>\n",
       "    <tr>\n",
       "      <th>2</th>\n",
       "      <td>2</td>\n",
       "      <td>3</td>\n",
       "      <td>13</td>\n",
       "      <td>255</td>\n",
       "      <td>87</td>\n",
       "    </tr>\n",
       "    <tr>\n",
       "      <th>3</th>\n",
       "      <td>3</td>\n",
       "      <td>71</td>\n",
       "      <td>89</td>\n",
       "      <td>340</td>\n",
       "      <td>65</td>\n",
       "    </tr>\n",
       "    <tr>\n",
       "      <th>4</th>\n",
       "      <td>4</td>\n",
       "      <td>23</td>\n",
       "      <td>30</td>\n",
       "      <td>304</td>\n",
       "      <td>64</td>\n",
       "    </tr>\n",
       "    <tr>\n",
       "      <th>...</th>\n",
       "      <td>...</td>\n",
       "      <td>...</td>\n",
       "      <td>...</td>\n",
       "      <td>...</td>\n",
       "      <td>...</td>\n",
       "    </tr>\n",
       "    <tr>\n",
       "      <th>95</th>\n",
       "      <td>8</td>\n",
       "      <td>63</td>\n",
       "      <td>6</td>\n",
       "      <td>614</td>\n",
       "      <td>29</td>\n",
       "    </tr>\n",
       "    <tr>\n",
       "      <th>96</th>\n",
       "      <td>9</td>\n",
       "      <td>30</td>\n",
       "      <td>24</td>\n",
       "      <td>450</td>\n",
       "      <td>88</td>\n",
       "    </tr>\n",
       "    <tr>\n",
       "      <th>97</th>\n",
       "      <td>10</td>\n",
       "      <td>31</td>\n",
       "      <td>83</td>\n",
       "      <td>182</td>\n",
       "      <td>36</td>\n",
       "    </tr>\n",
       "    <tr>\n",
       "      <th>98</th>\n",
       "      <td>11</td>\n",
       "      <td>55</td>\n",
       "      <td>85</td>\n",
       "      <td>2039</td>\n",
       "      <td>62</td>\n",
       "    </tr>\n",
       "    <tr>\n",
       "      <th>99</th>\n",
       "      <td>12</td>\n",
       "      <td>73</td>\n",
       "      <td>62</td>\n",
       "      <td>741</td>\n",
       "      <td>68</td>\n",
       "    </tr>\n",
       "  </tbody>\n",
       "</table>\n",
       "<p>100 rows × 5 columns</p>\n",
       "</div>"
      ],
      "text/plain": [
       "    Unnamed: 0  USERNAME  Caption  Followers  Hashtags\n",
       "0            0        64       86       1600        17\n",
       "1            1        29       82        880        97\n",
       "2            2         3       13        255        87\n",
       "3            3        71       89        340        65\n",
       "4            4        23       30        304        64\n",
       "..         ...       ...      ...        ...       ...\n",
       "95           8        63        6        614        29\n",
       "96           9        30       24        450        88\n",
       "97          10        31       83        182        36\n",
       "98          11        55       85       2039        62\n",
       "99          12        73       62        741        68\n",
       "\n",
       "[100 rows x 5 columns]"
      ]
     },
     "execution_count": 15,
     "metadata": {},
     "output_type": "execute_result"
    }
   ],
   "source": [
    "X=data.drop(labels=['S.No','Time since posted','Likes'],axis=1)\n",
    "X"
   ]
  },
  {
   "cell_type": "code",
   "execution_count": 16,
   "id": "9dc0aa45",
   "metadata": {},
   "outputs": [
    {
     "name": "stdout",
     "output_type": "stream",
     "text": [
      "Index(['Unnamed: 0', 'S.No', 'USERNAME', 'Caption', 'Followers', 'Hashtags',\n",
      "       'Time since posted', 'Likes'],\n",
      "      dtype='object')\n"
     ]
    }
   ],
   "source": [
    "print(data.columns)"
   ]
  },
  {
   "cell_type": "code",
   "execution_count": 17,
   "id": "77730e1f",
   "metadata": {},
   "outputs": [
    {
     "data": {
      "text/html": [
       "<div>\n",
       "<style scoped>\n",
       "    .dataframe tbody tr th:only-of-type {\n",
       "        vertical-align: middle;\n",
       "    }\n",
       "\n",
       "    .dataframe tbody tr th {\n",
       "        vertical-align: top;\n",
       "    }\n",
       "\n",
       "    .dataframe thead th {\n",
       "        text-align: right;\n",
       "    }\n",
       "</style>\n",
       "<table border=\"1\" class=\"dataframe\">\n",
       "  <thead>\n",
       "    <tr style=\"text-align: right;\">\n",
       "      <th></th>\n",
       "      <th>Time since posted</th>\n",
       "      <th>Likes</th>\n",
       "    </tr>\n",
       "  </thead>\n",
       "  <tbody>\n",
       "    <tr>\n",
       "      <th>0</th>\n",
       "      <td>11</td>\n",
       "      <td>139</td>\n",
       "    </tr>\n",
       "    <tr>\n",
       "      <th>1</th>\n",
       "      <td>2</td>\n",
       "      <td>23</td>\n",
       "    </tr>\n",
       "    <tr>\n",
       "      <th>2</th>\n",
       "      <td>2</td>\n",
       "      <td>25</td>\n",
       "    </tr>\n",
       "    <tr>\n",
       "      <th>3</th>\n",
       "      <td>3</td>\n",
       "      <td>49</td>\n",
       "    </tr>\n",
       "    <tr>\n",
       "      <th>4</th>\n",
       "      <td>3</td>\n",
       "      <td>30</td>\n",
       "    </tr>\n",
       "    <tr>\n",
       "      <th>...</th>\n",
       "      <td>...</td>\n",
       "      <td>...</td>\n",
       "    </tr>\n",
       "    <tr>\n",
       "      <th>95</th>\n",
       "      <td>3</td>\n",
       "      <td>31</td>\n",
       "    </tr>\n",
       "    <tr>\n",
       "      <th>96</th>\n",
       "      <td>3</td>\n",
       "      <td>42</td>\n",
       "    </tr>\n",
       "    <tr>\n",
       "      <th>97</th>\n",
       "      <td>3</td>\n",
       "      <td>10</td>\n",
       "    </tr>\n",
       "    <tr>\n",
       "      <th>98</th>\n",
       "      <td>3</td>\n",
       "      <td>222</td>\n",
       "    </tr>\n",
       "    <tr>\n",
       "      <th>99</th>\n",
       "      <td>3</td>\n",
       "      <td>109</td>\n",
       "    </tr>\n",
       "  </tbody>\n",
       "</table>\n",
       "<p>100 rows × 2 columns</p>\n",
       "</div>"
      ],
      "text/plain": [
       "    Time since posted  Likes\n",
       "0                  11    139\n",
       "1                   2     23\n",
       "2                   2     25\n",
       "3                   3     49\n",
       "4                   3     30\n",
       "..                ...    ...\n",
       "95                  3     31\n",
       "96                  3     42\n",
       "97                  3     10\n",
       "98                  3    222\n",
       "99                  3    109\n",
       "\n",
       "[100 rows x 2 columns]"
      ]
     },
     "execution_count": 17,
     "metadata": {},
     "output_type": "execute_result"
    }
   ],
   "source": [
    "y = data[['Time since posted','Likes']]\n",
    "y"
   ]
  },
  {
   "cell_type": "code",
   "execution_count": 18,
   "id": "01d6e178",
   "metadata": {},
   "outputs": [
    {
     "data": {
      "text/html": [
       "<div>\n",
       "<style scoped>\n",
       "    .dataframe tbody tr th:only-of-type {\n",
       "        vertical-align: middle;\n",
       "    }\n",
       "\n",
       "    .dataframe tbody tr th {\n",
       "        vertical-align: top;\n",
       "    }\n",
       "\n",
       "    .dataframe thead th {\n",
       "        text-align: right;\n",
       "    }\n",
       "</style>\n",
       "<table border=\"1\" class=\"dataframe\">\n",
       "  <thead>\n",
       "    <tr style=\"text-align: right;\">\n",
       "      <th></th>\n",
       "      <th>Unnamed: 0</th>\n",
       "      <th>USERNAME</th>\n",
       "      <th>Caption</th>\n",
       "      <th>Followers</th>\n",
       "      <th>Hashtags</th>\n",
       "    </tr>\n",
       "  </thead>\n",
       "  <tbody>\n",
       "    <tr>\n",
       "      <th>52</th>\n",
       "      <td>13</td>\n",
       "      <td>71</td>\n",
       "      <td>94</td>\n",
       "      <td>348</td>\n",
       "      <td>10</td>\n",
       "    </tr>\n",
       "    <tr>\n",
       "      <th>97</th>\n",
       "      <td>10</td>\n",
       "      <td>31</td>\n",
       "      <td>83</td>\n",
       "      <td>182</td>\n",
       "      <td>36</td>\n",
       "    </tr>\n",
       "    <tr>\n",
       "      <th>82</th>\n",
       "      <td>9</td>\n",
       "      <td>46</td>\n",
       "      <td>90</td>\n",
       "      <td>845</td>\n",
       "      <td>78</td>\n",
       "    </tr>\n",
       "    <tr>\n",
       "      <th>83</th>\n",
       "      <td>10</td>\n",
       "      <td>10</td>\n",
       "      <td>15</td>\n",
       "      <td>91</td>\n",
       "      <td>84</td>\n",
       "    </tr>\n",
       "    <tr>\n",
       "      <th>64</th>\n",
       "      <td>2</td>\n",
       "      <td>5</td>\n",
       "      <td>28</td>\n",
       "      <td>89</td>\n",
       "      <td>69</td>\n",
       "    </tr>\n",
       "    <tr>\n",
       "      <th>...</th>\n",
       "      <td>...</td>\n",
       "      <td>...</td>\n",
       "      <td>...</td>\n",
       "      <td>...</td>\n",
       "      <td>...</td>\n",
       "    </tr>\n",
       "    <tr>\n",
       "      <th>32</th>\n",
       "      <td>5</td>\n",
       "      <td>19</td>\n",
       "      <td>3</td>\n",
       "      <td>894</td>\n",
       "      <td>81</td>\n",
       "    </tr>\n",
       "    <tr>\n",
       "      <th>60</th>\n",
       "      <td>21</td>\n",
       "      <td>81</td>\n",
       "      <td>80</td>\n",
       "      <td>145</td>\n",
       "      <td>13</td>\n",
       "    </tr>\n",
       "    <tr>\n",
       "      <th>48</th>\n",
       "      <td>9</td>\n",
       "      <td>8</td>\n",
       "      <td>87</td>\n",
       "      <td>3725</td>\n",
       "      <td>15</td>\n",
       "    </tr>\n",
       "    <tr>\n",
       "      <th>96</th>\n",
       "      <td>9</td>\n",
       "      <td>30</td>\n",
       "      <td>24</td>\n",
       "      <td>450</td>\n",
       "      <td>88</td>\n",
       "    </tr>\n",
       "    <tr>\n",
       "      <th>23</th>\n",
       "      <td>23</td>\n",
       "      <td>64</td>\n",
       "      <td>10</td>\n",
       "      <td>4496</td>\n",
       "      <td>6</td>\n",
       "    </tr>\n",
       "  </tbody>\n",
       "</table>\n",
       "<p>75 rows × 5 columns</p>\n",
       "</div>"
      ],
      "text/plain": [
       "    Unnamed: 0  USERNAME  Caption  Followers  Hashtags\n",
       "52          13        71       94        348        10\n",
       "97          10        31       83        182        36\n",
       "82           9        46       90        845        78\n",
       "83          10        10       15         91        84\n",
       "64           2         5       28         89        69\n",
       "..         ...       ...      ...        ...       ...\n",
       "32           5        19        3        894        81\n",
       "60          21        81       80        145        13\n",
       "48           9         8       87       3725        15\n",
       "96           9        30       24        450        88\n",
       "23          23        64       10       4496         6\n",
       "\n",
       "[75 rows x 5 columns]"
      ]
     },
     "execution_count": 18,
     "metadata": {},
     "output_type": "execute_result"
    }
   ],
   "source": [
    "from sklearn.model_selection import train_test_split\n",
    "X_train,X_test,y_train,y_test=train_test_split(X,y, test_size=0.25)\n",
    "X_train"
   ]
  },
  {
   "cell_type": "code",
   "execution_count": 19,
   "id": "ef717a08",
   "metadata": {},
   "outputs": [],
   "source": [
    "from sklearn.preprocessing import StandardScaler\n",
    "scaler=StandardScaler()\n",
    "X_train_scaled=scaler.fit_transform(X_train)\n",
    "X_test_scaled=scaler.transform(X_test)"
   ]
  },
  {
   "cell_type": "code",
   "execution_count": 20,
   "id": "23c8eb4f",
   "metadata": {},
   "outputs": [],
   "source": [
    "from sklearn.linear_model import LinearRegression"
   ]
  },
  {
   "cell_type": "code",
   "execution_count": 22,
   "id": "d73f2d49",
   "metadata": {},
   "outputs": [],
   "source": [
    "model=LinearRegression()\n",
    "model.fit(X_train,y_train)\n",
    "y_pred=model.predict(X_test)"
   ]
  },
  {
   "cell_type": "code",
   "execution_count": 31,
   "id": "a72a4d64",
   "metadata": {},
   "outputs": [
    {
     "data": {
      "text/plain": [
       "<matplotlib.collections.PathCollection at 0x26911c697f0>"
      ]
     },
     "execution_count": 31,
     "metadata": {},
     "output_type": "execute_result"
    },
    {
     "data": {
      "image/png": "[encoded data removed]",
      "text/plain": [
       "<Figure size 432x288 with 1 Axes>"
      ]
     },
     "metadata": {
      "needs_background": "light"
     },
     "output_type": "display_data"
    }
   ],
   "source": [
    "plt.scatter(y_test,y_pred)"
   ]
  },
  {
   "cell_type": "code",
   "execution_count": 34,
   "id": "833a9062",
   "metadata": {},
   "outputs": [
    {
     "name": "stdout",
     "output_type": "stream",
     "text": [
      "MAE: 16.045110624185327\n",
      "MSE: 929.5454881273769\n",
      "RMSE: 30.488448437521004\n"
     ]
    }
   ],
   "source": [
    "from sklearn import metrics\n",
    "print('MAE:', metrics.mean_absolute_error(y_test, predictions))\n",
    "print('MSE:', metrics.mean_squared_error(y_test, predictions))\n",
    "print('RMSE:', np.sqrt(metrics.mean_squared_error(y_test, predictions)))"
   ]
  },
  {
   "cell_type": "code",
   "execution_count": 99,
   "id": "c2fd0030",
   "metadata": {},
   "outputs": [],
   "source": [
    "#MACHINE LEARNING: Question-2"
   ]
  },
  {
   "cell_type": "code",
   "execution_count": 100,
   "id": "33b198ca",
   "metadata": {},
   "outputs": [],
   "source": [
    "import numpy as np\n",
    "import pandas as pd \n",
    "import matplotlib.pyplot as plt\n",
    "import seaborn as sns\n",
    "from sklearn.preprocessing import MinMaxScaler\n",
    "%matplotlib inline "
   ]
  },
  {
   "cell_type": "code",
   "execution_count": 37,
   "id": "af668d42",
   "metadata": {},
   "outputs": [
    {
     "data": {
      "text/html": [
       "<div>\n",
       "<style scoped>\n",
       "    .dataframe tbody tr th:only-of-type {\n",
       "        vertical-align: middle;\n",
       "    }\n",
       "\n",
       "    .dataframe tbody tr th {\n",
       "        vertical-align: top;\n",
       "    }\n",
       "\n",
       "    .dataframe thead th {\n",
       "        text-align: right;\n",
       "    }\n",
       "</style>\n",
       "<table border=\"1\" class=\"dataframe\">\n",
       "  <thead>\n",
       "    <tr style=\"text-align: right;\">\n",
       "      <th></th>\n",
       "      <th>area_type</th>\n",
       "      <th>availability</th>\n",
       "      <th>location</th>\n",
       "      <th>size</th>\n",
       "      <th>society</th>\n",
       "      <th>total_sqft</th>\n",
       "      <th>bath</th>\n",
       "      <th>balcony</th>\n",
       "      <th>price</th>\n",
       "    </tr>\n",
       "  </thead>\n",
       "  <tbody>\n",
       "    <tr>\n",
       "      <th>0</th>\n",
       "      <td>Super built-up  Area</td>\n",
       "      <td>19-Dec</td>\n",
       "      <td>Electronic City Phase II</td>\n",
       "      <td>2 BHK</td>\n",
       "      <td>Coomee</td>\n",
       "      <td>1056</td>\n",
       "      <td>2.0</td>\n",
       "      <td>1.0</td>\n",
       "      <td>39.07</td>\n",
       "    </tr>\n",
       "    <tr>\n",
       "      <th>1</th>\n",
       "      <td>Plot  Area</td>\n",
       "      <td>Ready To Move</td>\n",
       "      <td>Chikka Tirupathi</td>\n",
       "      <td>4 Bedroom</td>\n",
       "      <td>Theanmp</td>\n",
       "      <td>2600</td>\n",
       "      <td>5.0</td>\n",
       "      <td>3.0</td>\n",
       "      <td>120.00</td>\n",
       "    </tr>\n",
       "    <tr>\n",
       "      <th>2</th>\n",
       "      <td>Built-up  Area</td>\n",
       "      <td>Ready To Move</td>\n",
       "      <td>Uttarahalli</td>\n",
       "      <td>3 BHK</td>\n",
       "      <td>NaN</td>\n",
       "      <td>1440</td>\n",
       "      <td>2.0</td>\n",
       "      <td>3.0</td>\n",
       "      <td>62.00</td>\n",
       "    </tr>\n",
       "    <tr>\n",
       "      <th>3</th>\n",
       "      <td>Super built-up  Area</td>\n",
       "      <td>Ready To Move</td>\n",
       "      <td>Lingadheeranahalli</td>\n",
       "      <td>3 BHK</td>\n",
       "      <td>Soiewre</td>\n",
       "      <td>1521</td>\n",
       "      <td>3.0</td>\n",
       "      <td>1.0</td>\n",
       "      <td>95.00</td>\n",
       "    </tr>\n",
       "    <tr>\n",
       "      <th>4</th>\n",
       "      <td>Super built-up  Area</td>\n",
       "      <td>Ready To Move</td>\n",
       "      <td>Kothanur</td>\n",
       "      <td>2 BHK</td>\n",
       "      <td>NaN</td>\n",
       "      <td>1200</td>\n",
       "      <td>2.0</td>\n",
       "      <td>1.0</td>\n",
       "      <td>51.00</td>\n",
       "    </tr>\n",
       "  </tbody>\n",
       "</table>\n",
       "</div>"
      ],
      "text/plain": [
       "              area_type   availability                  location       size  \\\n",
       "0  Super built-up  Area         19-Dec  Electronic City Phase II      2 BHK   \n",
       "1            Plot  Area  Ready To Move          Chikka Tirupathi  4 Bedroom   \n",
       "2        Built-up  Area  Ready To Move               Uttarahalli      3 BHK   \n",
       "3  Super built-up  Area  Ready To Move        Lingadheeranahalli      3 BHK   \n",
       "4  Super built-up  Area  Ready To Move                  Kothanur      2 BHK   \n",
       "\n",
       "   society total_sqft  bath  balcony   price  \n",
       "0  Coomee        1056   2.0      1.0   39.07  \n",
       "1  Theanmp       2600   5.0      3.0  120.00  \n",
       "2      NaN       1440   2.0      3.0   62.00  \n",
       "3  Soiewre       1521   3.0      1.0   95.00  \n",
       "4      NaN       1200   2.0      1.0   51.00  "
      ]
     },
     "execution_count": 37,
     "metadata": {},
     "output_type": "execute_result"
    }
   ],
   "source": [
    "df = pd.read_csv(\"Downloads/Bengaluru_House_Data (1).csv\")\n",
    "df.head()"
   ]
  },
  {
   "cell_type": "code",
   "execution_count": 38,
   "id": "36565a56",
   "metadata": {},
   "outputs": [
    {
     "data": {
      "text/plain": [
       "area_type          0\n",
       "availability       0\n",
       "location           1\n",
       "size              16\n",
       "society         5502\n",
       "total_sqft         0\n",
       "bath              73\n",
       "balcony          609\n",
       "price              0\n",
       "dtype: int64"
      ]
     },
     "execution_count": 38,
     "metadata": {},
     "output_type": "execute_result"
    }
   ],
   "source": [
    "df.isnull().sum() "
   ]
  },
  {
   "cell_type": "code",
   "execution_count": 40,
   "id": "6fc2ddae",
   "metadata": {},
   "outputs": [
    {
     "data": {
      "image/png": "[encoded data removed]",
      "text/plain": [
       "<Figure size 432x288 with 1 Axes>"
      ]
     },
     "metadata": {
      "needs_background": "light"
     },
     "output_type": "display_data"
    }
   ],
   "source": [
    "s = df['society'].value_counts().nlargest(5).plot(kind='bar', color='blue')\n",
    "\n",
    "for p in s.patches:\n",
    "    s.annotate(str(p.get_height()), (p.get_x() + p.get_width() / 2, p.get_height()), ha='center', va='bottom', color='black')\n",
    "\n",
    "plt.title('What are the Top 5 society ??')\n",
    "plt.xlabel('Location')\n",
    "plt.ylabel('Count')\n",
    "plt.show()\n"
   ]
  },
  {
   "cell_type": "code",
   "execution_count": 41,
   "id": "65e52d01",
   "metadata": {
    "scrolled": true
   },
   "outputs": [
    {
     "data": {
      "image/png": "[encoded data removed]",
      "text/plain": [
       "<Figure size 432x288 with 1 Axes>"
      ]
     },
     "metadata": {
      "needs_background": "light"
     },
     "output_type": "display_data"
    }
   ],
   "source": [
    "la = df['location'].value_counts().nlargest(5).plot(kind='bar', color='salmon') \n",
    "\n",
    "for p in la.patches:\n",
    "    la.annotate(str(p.get_height()), (p.get_x() + p.get_width() / 2, p.get_height()), ha='center', va='bottom', color='black')\n",
    "\n",
    "plt.title('What are the Top 5 locations mostly visited?')\n",
    "plt.xlabel('Location')\n",
    "plt.ylabel('Count')\n",
    "plt.show()\n"
   ]
  },
  {
   "cell_type": "code",
   "execution_count": null,
   "id": "9505a4cb",
   "metadata": {},
   "outputs": [],
   "source": [
    "df['size'].fillna(value=df['size'].mode(), inplace=True)\n",
    "\n",
    "df['bath'].fillna(method='ffill', inplace=True)\n",
    "df['balcony'].fillna(method='ffill', inplace=True)\n",
    "\n",
    "df = df.drop(columns=['society', 'availability','location'])\n",
    "\n",
    "df['total_sqft'] = pd.to_numeric(df['total_sqft'], errors='coerce')"
   ]
  },
  {
   "cell_type": "code",
   "execution_count": 45,
   "id": "6af45233",
   "metadata": {},
   "outputs": [],
   "source": [
    "df.isnull().sum()\n",
    "df.dropna(inplace=True)"
   ]
  },
  {
   "cell_type": "code",
   "execution_count": 46,
   "id": "ccada5a1",
   "metadata": {},
   "outputs": [
    {
     "data": {
      "image/png": "[encoded data removed]",
      "text/plain": [
       "<Figure size 720x576 with 4 Axes>"
      ]
     },
     "metadata": {
      "needs_background": "light"
     },
     "output_type": "display_data"
    }
   ],
   "source": [
    "df.hist(figsize=(10,8))\n",
    "plt.show()"
   ]
  },
  {
   "cell_type": "code",
   "execution_count": 47,
   "id": "37778853",
   "metadata": {},
   "outputs": [
    {
     "data": {
      "text/plain": [
       "2 BHK         5148\n",
       "3 BHK         4254\n",
       "4 Bedroom      811\n",
       "4 BHK          546\n",
       "3 Bedroom      542\n",
       "1 BHK          492\n",
       "2 Bedroom      325\n",
       "5 Bedroom      294\n",
       "6 Bedroom      190\n",
       "1 Bedroom      100\n",
       "7 Bedroom       83\n",
       "8 Bedroom       83\n",
       "5 BHK           55\n",
       "9 Bedroom       45\n",
       "6 BHK           30\n",
       "7 BHK           17\n",
       "1 RK            12\n",
       "10 Bedroom      12\n",
       "9 BHK            7\n",
       "8 BHK            5\n",
       "11 BHK           2\n",
       "11 Bedroom       2\n",
       "10 BHK           2\n",
       "14 BHK           1\n",
       "13 BHK           1\n",
       "12 Bedroom       1\n",
       "27 BHK           1\n",
       "43 Bedroom       1\n",
       "16 BHK           1\n",
       "19 BHK           1\n",
       "18 Bedroom       1\n",
       "Name: size, dtype: int64"
      ]
     },
     "execution_count": 47,
     "metadata": {},
     "output_type": "execute_result"
    }
   ],
   "source": [
    "df['size'].value_counts()"
   ]
  },
  {
   "cell_type": "code",
   "execution_count": 52,
   "id": "73ae169b",
   "metadata": {},
   "outputs": [
    {
     "data": {
      "image/png": "[encoded data removed]",
      "text/plain": [
       "<Figure size 432x288 with 1 Axes>"
      ]
     },
     "metadata": {
      "needs_background": "light"
     },
     "output_type": "display_data"
    }
   ],
   "source": [
    "at=df['area_type'].value_counts().plot(kind='bar',color='skyblue')\n",
    "for p in at.patches:\n",
    "    at.annotate(str(p.get_height()), (p.get_x() + p.get_width() / 2, p.get_height()), ha='center', va='bottom')\n",
    "\n",
    "plt.title('What is Area type are mostly!?')\n",
    "plt.xlabel('area_type')\n",
    "plt.ylabel('count')\n",
    "plt.show()\n"
   ]
  },
  {
   "cell_type": "code",
   "execution_count": 53,
   "id": "1f024e06",
   "metadata": {},
   "outputs": [
    {
     "data": {
      "text/html": [
       "<div>\n",
       "<style scoped>\n",
       "    .dataframe tbody tr th:only-of-type {\n",
       "        vertical-align: middle;\n",
       "    }\n",
       "\n",
       "    .dataframe tbody tr th {\n",
       "        vertical-align: top;\n",
       "    }\n",
       "\n",
       "    .dataframe thead th {\n",
       "        text-align: right;\n",
       "    }\n",
       "</style>\n",
       "<table border=\"1\" class=\"dataframe\">\n",
       "  <thead>\n",
       "    <tr style=\"text-align: right;\">\n",
       "      <th></th>\n",
       "      <th>area_type</th>\n",
       "      <th>size</th>\n",
       "      <th>total_sqft</th>\n",
       "      <th>bath</th>\n",
       "      <th>balcony</th>\n",
       "      <th>price</th>\n",
       "    </tr>\n",
       "  </thead>\n",
       "  <tbody>\n",
       "    <tr>\n",
       "      <th>0</th>\n",
       "      <td>Super built-up  Area</td>\n",
       "      <td>2 BHK</td>\n",
       "      <td>1056.0</td>\n",
       "      <td>2.0</td>\n",
       "      <td>1.0</td>\n",
       "      <td>39.07</td>\n",
       "    </tr>\n",
       "    <tr>\n",
       "      <th>1</th>\n",
       "      <td>Plot  Area</td>\n",
       "      <td>4 Bedroom</td>\n",
       "      <td>2600.0</td>\n",
       "      <td>5.0</td>\n",
       "      <td>3.0</td>\n",
       "      <td>120.00</td>\n",
       "    </tr>\n",
       "    <tr>\n",
       "      <th>2</th>\n",
       "      <td>Built-up  Area</td>\n",
       "      <td>3 BHK</td>\n",
       "      <td>1440.0</td>\n",
       "      <td>2.0</td>\n",
       "      <td>3.0</td>\n",
       "      <td>62.00</td>\n",
       "    </tr>\n",
       "    <tr>\n",
       "      <th>3</th>\n",
       "      <td>Super built-up  Area</td>\n",
       "      <td>3 BHK</td>\n",
       "      <td>1521.0</td>\n",
       "      <td>3.0</td>\n",
       "      <td>1.0</td>\n",
       "      <td>95.00</td>\n",
       "    </tr>\n",
       "    <tr>\n",
       "      <th>4</th>\n",
       "      <td>Super built-up  Area</td>\n",
       "      <td>2 BHK</td>\n",
       "      <td>1200.0</td>\n",
       "      <td>2.0</td>\n",
       "      <td>1.0</td>\n",
       "      <td>51.00</td>\n",
       "    </tr>\n",
       "  </tbody>\n",
       "</table>\n",
       "</div>"
      ],
      "text/plain": [
       "              area_type       size  total_sqft  bath  balcony   price\n",
       "0  Super built-up  Area      2 BHK      1056.0   2.0      1.0   39.07\n",
       "1            Plot  Area  4 Bedroom      2600.0   5.0      3.0  120.00\n",
       "2        Built-up  Area      3 BHK      1440.0   2.0      3.0   62.00\n",
       "3  Super built-up  Area      3 BHK      1521.0   3.0      1.0   95.00\n",
       "4  Super built-up  Area      2 BHK      1200.0   2.0      1.0   51.00"
      ]
     },
     "execution_count": 53,
     "metadata": {},
     "output_type": "execute_result"
    }
   ],
   "source": [
    "df.head()"
   ]
  },
  {
   "cell_type": "code",
   "execution_count": 54,
   "id": "b357619f",
   "metadata": {},
   "outputs": [
    {
     "data": {
      "image/png": "[encoded data removed]",
      "text/plain": [
       "<Figure size 432x288 with 1 Axes>"
      ]
     },
     "metadata": {
      "needs_background": "light"
     },
     "output_type": "display_data"
    }
   ],
   "source": [
    "sns.scatterplot(x='total_sqft', y='price', data=df)  \n",
    "plt.title('Scatter Plot of total_sqft')\n",
    "plt.xlabel('total_sqft')\n",
    "plt.ylabel('price')  \n",
    "plt.show()"
   ]
  },
  {
   "cell_type": "code",
   "execution_count": 55,
   "id": "3dda98a0",
   "metadata": {},
   "outputs": [],
   "source": [
    "df.loc[df['total_sqft'] >= 10000, 'total_sqft'] = np.nan"
   ]
  },
  {
   "cell_type": "code",
   "execution_count": 56,
   "id": "ffddc223",
   "metadata": {},
   "outputs": [
    {
     "data": {
      "image/png": "[encoded data removed]",
      "text/plain": [
       "<Figure size 432x288 with 1 Axes>"
      ]
     },
     "metadata": {
      "needs_background": "light"
     },
     "output_type": "display_data"
    }
   ],
   "source": [
    "sns.scatterplot(x='bath', y='price', data=df)  \n",
    "plt.title('Scatter Plot of bath')\n",
    "plt.xlabel('bath')\n",
    "plt.ylabel('price')  \n",
    "plt.show()"
   ]
  },
  {
   "cell_type": "code",
   "execution_count": 57,
   "id": "00f3e315",
   "metadata": {},
   "outputs": [],
   "source": [
    "df.loc[df['bath'] >= 17.5, 'bath'] = np.nan"
   ]
  },
  {
   "cell_type": "code",
   "execution_count": 58,
   "id": "7ddcee34",
   "metadata": {},
   "outputs": [
    {
     "data": {
      "image/png": "[encoded data removed]",
      "text/plain": [
       "<Figure size 432x288 with 1 Axes>"
      ]
     },
     "metadata": {
      "needs_background": "light"
     },
     "output_type": "display_data"
    }
   ],
   "source": [
    "sns.scatterplot(x='balcony', y='price', data=df)  \n",
    "plt.title('Scatter Plot of balcony')\n",
    "plt.xlabel('balcony')\n",
    "plt.ylabel('price')  \n",
    "plt.show()"
   ]
  },
  {
   "cell_type": "code",
   "execution_count": 59,
   "id": "8b78af9c",
   "metadata": {},
   "outputs": [],
   "source": [
    "df.drop(columns='area_type', inplace=True)\n",
    "df.drop(columns='size', inplace=True)\n",
    "df.dropna(inplace=True)"
   ]
  },
  {
   "cell_type": "code",
   "execution_count": 60,
   "id": "5c048bdb",
   "metadata": {},
   "outputs": [],
   "source": [
    "df['sqft_price']=df['total_sqft']*df['price']\n",
    "scaler = MinMaxScaler()\n",
    "df_scaled = scaler.fit_transform(df)\n",
    "df_scaled = pd.DataFrame(df_scaled, columns=df.columns)"
   ]
  },
  {
   "cell_type": "code",
   "execution_count": 62,
   "id": "a221687c",
   "metadata": {},
   "outputs": [
    {
     "data": {
      "image/png": "[encoded data removed]",
      "text/plain": [
       "<Figure size 576x432 with 2 Axes>"
      ]
     },
     "metadata": {
      "needs_background": "light"
     },
     "output_type": "display_data"
    }
   ],
   "source": [
    "df=df_scaled.copy()\n",
    "correlation_matrix = df.corr()\n",
    "plt.figure(figsize=(8, 6))\n",
    "sns.heatmap(correlation_matrix, annot=True)\n",
    "plt.title('Heatmap')\n",
    "plt.show()"
   ]
  },
  {
   "cell_type": "code",
   "execution_count": 63,
   "id": "13ffc4d8",
   "metadata": {},
   "outputs": [],
   "source": [
    "#Model Building\n",
    "X = df.drop(['price'],axis='columns')\n",
    "y = df.price"
   ]
  },
  {
   "cell_type": "code",
   "execution_count": 64,
   "id": "b7c3e338",
   "metadata": {},
   "outputs": [],
   "source": [
    "from sklearn.model_selection import train_test_split\n",
    "X_train, X_test, y_train, y_test = train_test_split(X,y,test_size=0.25,random_state=39)"
   ]
  },
  {
   "cell_type": "code",
   "execution_count": 68,
   "id": "a03866c1",
   "metadata": {},
   "outputs": [
    {
     "data": {
      "text/plain": [
       "SVR()"
      ]
     },
     "execution_count": 68,
     "metadata": {},
     "output_type": "execute_result"
    }
   ],
   "source": [
    "from sklearn.svm import SVR\n",
    "svc_model = SVR()\n",
    "svc_model.fit(X_train,y_train)"
   ]
  },
  {
   "cell_type": "code",
   "execution_count": 78,
   "id": "f5119454",
   "metadata": {},
   "outputs": [],
   "source": [
    "pred = svc_model.predict(X_test)"
   ]
  },
  {
   "cell_type": "code",
   "execution_count": 80,
   "id": "be20a928",
   "metadata": {},
   "outputs": [
    {
     "name": "stdout",
     "output_type": "stream",
     "text": [
      "Mean Absolute Error: 0.08125604592888694\n",
      "Mean Squared Error: 0.0067437878953084465\n"
     ]
    }
   ],
   "source": [
    "from sklearn.metrics import mean_absolute_error, mean_squared_error\n",
    "\n",
    "# Assuming pred is your model's predictions\n",
    "mae = mean_absolute_error(y_test, pred)\n",
    "mse = mean_squared_error(y_test, pred)\n",
    "\n",
    "print(\"Mean Absolute Error:\", mae)\n",
    "print(\"Mean Squared Error:\", mse)"
   ]
  },
  {
   "cell_type": "code",
   "execution_count": 101,
   "id": "eff97013",
   "metadata": {},
   "outputs": [],
   "source": [
    "#MACHINE LEARNING: Question-3"
   ]
  },
  {
   "cell_type": "code",
   "execution_count": 81,
   "id": "f163ea01",
   "metadata": {
    "scrolled": true
   },
   "outputs": [
    {
     "name": "stdout",
     "output_type": "stream",
     "text": [
      "Best hyperparameters for Decision Tree: {'criterion': 'entropy', 'max_depth': 9, 'max_features': 10, 'min_samples_leaf': 3, 'min_samples_split': 9, 'splitter': 'random'}\n",
      "Best accuracy for Decision Tree: 0.929064039408867\n",
      "Accuracy of Decision Tree on test dataset: 0.8888888888888888\n",
      "Accuracy of each tree in the forest: [0.9444444444444444, 0.8333333333333334, 0.9444444444444444, 0.9166666666666666, 0.9166666666666666, 0.9166666666666666, 0.8611111111111112, 0.8333333333333334, 0.8888888888888888, 0.8333333333333334]\n",
      "Average accuracy of the forest: 0.888888888888889\n"
     ]
    }
   ],
   "source": [
    "from sklearn.datasets import load_wine\n",
    "from sklearn.model_selection import train_test_split, RandomizedSearchCV, ShuffleSplit\n",
    "from sklearn.tree import DecisionTreeClassifier\n",
    "from sklearn.ensemble import RandomForestClassifier\n",
    "from sklearn.metrics import accuracy_score\n",
    "from scipy.stats import randint\n",
    "import numpy as np\n",
    "\n",
    "# Step 1: Load the wine dataset\n",
    "wine = load_wine()\n",
    "X, y = wine.data, wine.target\n",
    "\n",
    "# Step 2: Split the dataset into train and test dataset\n",
    "X_train, X_test, y_train, y_test = train_test_split(X, y, test_size=0.2, random_state=42)\n",
    "\n",
    "# Step 3: Hyperparameter tuning using random search CV for Decision Tree\n",
    "param_dist = {\n",
    "    \"criterion\": [\"gini\", \"entropy\"],\n",
    "    \"splitter\": [\"best\", \"random\"],\n",
    "    \"max_depth\": randint(1, 10),\n",
    "    \"min_samples_split\": randint(2, 20),\n",
    "    \"min_samples_leaf\": randint(1, 20),\n",
    "    \"max_features\": randint(1, X_train.shape[1] + 1)\n",
    "}\n",
    "\n",
    "random_search = RandomizedSearchCV(DecisionTreeClassifier(), param_distributions=param_dist, n_iter=100, cv=5, random_state=42)\n",
    "random_search.fit(X_train, y_train)\n",
    "\n",
    "print(\"Best hyperparameters for Decision Tree:\", random_search.best_params_)\n",
    "print(\"Best accuracy for Decision Tree:\", random_search.best_score_)\n",
    "\n",
    "# Step 4: Evaluate Decision Tree on test dataset\n",
    "best_dt = random_search.best_estimator_\n",
    "y_pred_dt = best_dt.predict(X_test)\n",
    "accuracy_dt = accuracy_score(y_test, y_pred_dt)\n",
    "print(\"Accuracy of Decision Tree on test dataset:\", accuracy_dt)\n",
    "\n",
    "# Step 5: Grow a random forest\n",
    "n_subsets = 10\n",
    "rs = ShuffleSplit(n_splits=n_subsets, test_size=0.2, random_state=42)\n",
    "forest = [None] * n_subsets\n",
    "\n",
    "for i, (train_index, _) in enumerate(rs.split(X_train)):\n",
    "    X_subset, y_subset = X_train[train_index], y_train[train_index]\n",
    "    forest[i] = DecisionTreeClassifier(**random_search.best_params_)\n",
    "    forest[i].fit(X_subset, y_subset)\n",
    "\n",
    "# Step 6: Evaluate all trees on test dataset\n",
    "accuracy_forest = []\n",
    "for tree in forest:\n",
    "    y_pred_tree = tree.predict(X_test)\n",
    "    accuracy_forest.append(accuracy_score(y_test, y_pred_tree))\n",
    "\n",
    "print(\"Accuracy of each tree in the forest:\", accuracy_forest)\n",
    "print(\"Average accuracy of the forest:\", np.mean(accuracy_forest))\n"
   ]
  },
  {
   "cell_type": "markdown",
   "id": "847bb321",
   "metadata": {},
   "source": [
    "# DEEP LEARNING"
   ]
  },
  {
   "cell_type": "code",
   "execution_count": 109,
   "id": "431d72d9",
   "metadata": {},
   "outputs": [],
   "source": [
    "#DEEP LEARNING- QUESTION 3\n",
    "#Perform Regression Task using ANN"
   ]
  },
  {
   "cell_type": "code",
   "execution_count": 86,
   "id": "ec99659e",
   "metadata": {},
   "outputs": [
    {
     "name": "stdout",
     "output_type": "stream",
     "text": [
      "Epoch 1/100\n",
      "4/4 [==============================] - 0s 37ms/step - loss: 1.1338 - val_loss: 1.1812\n",
      "Epoch 2/100\n",
      "4/4 [==============================] - 0s 11ms/step - loss: 0.6429 - val_loss: 0.6655\n",
      "Epoch 3/100\n",
      "4/4 [==============================] - 0s 10ms/step - loss: 0.3545 - val_loss: 0.3491\n",
      "Epoch 4/100\n",
      "4/4 [==============================] - 0s 10ms/step - loss: 0.2126 - val_loss: 0.1952\n",
      "Epoch 5/100\n",
      "4/4 [==============================] - 0s 9ms/step - loss: 0.1511 - val_loss: 0.1490\n",
      "Epoch 6/100\n",
      "4/4 [==============================] - 0s 10ms/step - loss: 0.1315 - val_loss: 0.1464\n",
      "Epoch 7/100\n",
      "4/4 [==============================] - 0s 9ms/step - loss: 0.1178 - val_loss: 0.1456\n",
      "Epoch 8/100\n",
      "4/4 [==============================] - 0s 11ms/step - loss: 0.1082 - val_loss: 0.1416\n",
      "Epoch 9/100\n",
      "4/4 [==============================] - 0s 10ms/step - loss: 0.0951 - val_loss: 0.1385\n",
      "Epoch 10/100\n",
      "4/4 [==============================] - 0s 10ms/step - loss: 0.0795 - val_loss: 0.1322\n",
      "Epoch 11/100\n",
      "4/4 [==============================] - 0s 9ms/step - loss: 0.0658 - val_loss: 0.1269\n",
      "Epoch 12/100\n",
      "4/4 [==============================] - 0s 10ms/step - loss: 0.0547 - val_loss: 0.1235\n",
      "Epoch 13/100\n",
      "4/4 [==============================] - 0s 9ms/step - loss: 0.0513 - val_loss: 0.1233\n",
      "Epoch 14/100\n",
      "4/4 [==============================] - 0s 10ms/step - loss: 0.0495 - val_loss: 0.1215\n",
      "Epoch 15/100\n",
      "4/4 [==============================] - 0s 12ms/step - loss: 0.0476 - val_loss: 0.1258\n",
      "Epoch 16/100\n",
      "4/4 [==============================] - 0s 9ms/step - loss: 0.0435 - val_loss: 0.1293\n",
      "Epoch 17/100\n",
      "4/4 [==============================] - 0s 11ms/step - loss: 0.0416 - val_loss: 0.1354\n",
      "Epoch 18/100\n",
      "4/4 [==============================] - 0s 11ms/step - loss: 0.0407 - val_loss: 0.1345\n",
      "Epoch 19/100\n",
      "4/4 [==============================] - 0s 11ms/step - loss: 0.0384 - val_loss: 0.1259\n",
      "Epoch 20/100\n",
      "4/4 [==============================] - 0s 11ms/step - loss: 0.0355 - val_loss: 0.1190\n",
      "Epoch 21/100\n",
      "4/4 [==============================] - 0s 9ms/step - loss: 0.0329 - val_loss: 0.1156\n",
      "Epoch 22/100\n",
      "4/4 [==============================] - 0s 10ms/step - loss: 0.0313 - val_loss: 0.1132\n",
      "Epoch 23/100\n",
      "4/4 [==============================] - 0s 11ms/step - loss: 0.0297 - val_loss: 0.1104\n",
      "Epoch 24/100\n",
      "4/4 [==============================] - 0s 10ms/step - loss: 0.0288 - val_loss: 0.1082\n",
      "Epoch 25/100\n",
      "4/4 [==============================] - 0s 11ms/step - loss: 0.0270 - val_loss: 0.1104\n",
      "Epoch 26/100\n",
      "4/4 [==============================] - 0s 10ms/step - loss: 0.0265 - val_loss: 0.1118\n",
      "Epoch 27/100\n",
      "4/4 [==============================] - 0s 10ms/step - loss: 0.0255 - val_loss: 0.1096\n",
      "Epoch 28/100\n",
      "4/4 [==============================] - 0s 9ms/step - loss: 0.0247 - val_loss: 0.1052\n",
      "Epoch 29/100\n",
      "4/4 [==============================] - 0s 11ms/step - loss: 0.0229 - val_loss: 0.0998\n",
      "Epoch 30/100\n",
      "4/4 [==============================] - 0s 9ms/step - loss: 0.0219 - val_loss: 0.0963\n",
      "Epoch 31/100\n",
      "4/4 [==============================] - 0s 8ms/step - loss: 0.0220 - val_loss: 0.0945\n",
      "Epoch 32/100\n",
      "4/4 [==============================] - 0s 11ms/step - loss: 0.0208 - val_loss: 0.0956\n",
      "Epoch 33/100\n",
      "4/4 [==============================] - 0s 8ms/step - loss: 0.0196 - val_loss: 0.0986\n",
      "Epoch 34/100\n",
      "4/4 [==============================] - 0s 11ms/step - loss: 0.0188 - val_loss: 0.1000\n",
      "Epoch 35/100\n",
      "4/4 [==============================] - 0s 10ms/step - loss: 0.0183 - val_loss: 0.0971\n",
      "Epoch 36/100\n",
      "4/4 [==============================] - 0s 8ms/step - loss: 0.0170 - val_loss: 0.0920\n",
      "Epoch 37/100\n",
      "4/4 [==============================] - 0s 11ms/step - loss: 0.0176 - val_loss: 0.0891\n",
      "Epoch 38/100\n",
      "4/4 [==============================] - 0s 9ms/step - loss: 0.0175 - val_loss: 0.0887\n",
      "Epoch 39/100\n",
      "4/4 [==============================] - 0s 10ms/step - loss: 0.0157 - val_loss: 0.0905\n",
      "Epoch 40/100\n",
      "4/4 [==============================] - 0s 11ms/step - loss: 0.0150 - val_loss: 0.0914\n",
      "Epoch 41/100\n",
      "4/4 [==============================] - 0s 12ms/step - loss: 0.0145 - val_loss: 0.0907\n",
      "Epoch 42/100\n",
      "4/4 [==============================] - 0s 17ms/step - loss: 0.0135 - val_loss: 0.0885\n",
      "Epoch 43/100\n",
      "4/4 [==============================] - 0s 11ms/step - loss: 0.0134 - val_loss: 0.0873\n",
      "Epoch 44/100\n",
      "4/4 [==============================] - 0s 9ms/step - loss: 0.0139 - val_loss: 0.0891\n",
      "Epoch 45/100\n",
      "4/4 [==============================] - 0s 11ms/step - loss: 0.0127 - val_loss: 0.0925\n",
      "Epoch 46/100\n",
      "4/4 [==============================] - 0s 12ms/step - loss: 0.0121 - val_loss: 0.0930\n",
      "Epoch 47/100\n",
      "4/4 [==============================] - 0s 10ms/step - loss: 0.0115 - val_loss: 0.0926\n",
      "Epoch 48/100\n",
      "4/4 [==============================] - 0s 10ms/step - loss: 0.0112 - val_loss: 0.0909\n",
      "Epoch 49/100\n",
      "4/4 [==============================] - 0s 10ms/step - loss: 0.0105 - val_loss: 0.0884\n",
      "Epoch 50/100\n",
      "4/4 [==============================] - 0s 10ms/step - loss: 0.0102 - val_loss: 0.0875\n",
      "Epoch 51/100\n",
      "4/4 [==============================] - 0s 10ms/step - loss: 0.0098 - val_loss: 0.0871\n",
      "Epoch 52/100\n",
      "4/4 [==============================] - 0s 10ms/step - loss: 0.0094 - val_loss: 0.0877\n",
      "Epoch 53/100\n",
      "4/4 [==============================] - 0s 10ms/step - loss: 0.0091 - val_loss: 0.0889\n",
      "Epoch 54/100\n",
      "4/4 [==============================] - 0s 9ms/step - loss: 0.0095 - val_loss: 0.0904\n",
      "Epoch 55/100\n",
      "4/4 [==============================] - 0s 9ms/step - loss: 0.0100 - val_loss: 0.0858\n",
      "Epoch 56/100\n",
      "4/4 [==============================] - 0s 8ms/step - loss: 0.0090 - val_loss: 0.0831\n",
      "Epoch 57/100\n",
      "4/4 [==============================] - 0s 8ms/step - loss: 0.0090 - val_loss: 0.0828\n",
      "Epoch 58/100\n",
      "4/4 [==============================] - 0s 8ms/step - loss: 0.0086 - val_loss: 0.0838\n",
      "Epoch 59/100\n",
      "4/4 [==============================] - 0s 9ms/step - loss: 0.0081 - val_loss: 0.0856\n",
      "Epoch 60/100\n",
      "4/4 [==============================] - 0s 9ms/step - loss: 0.0076 - val_loss: 0.0850\n",
      "Epoch 61/100\n",
      "4/4 [==============================] - 0s 8ms/step - loss: 0.0073 - val_loss: 0.0852\n",
      "Epoch 62/100\n",
      "4/4 [==============================] - 0s 10ms/step - loss: 0.0068 - val_loss: 0.0863\n",
      "Epoch 63/100\n",
      "4/4 [==============================] - 0s 9ms/step - loss: 0.0068 - val_loss: 0.0861\n",
      "Epoch 64/100\n",
      "4/4 [==============================] - 0s 11ms/step - loss: 0.0068 - val_loss: 0.0847\n",
      "Epoch 65/100\n",
      "4/4 [==============================] - 0s 11ms/step - loss: 0.0062 - val_loss: 0.0837\n",
      "Epoch 66/100\n",
      "4/4 [==============================] - 0s 9ms/step - loss: 0.0059 - val_loss: 0.0838\n",
      "Epoch 67/100\n",
      "4/4 [==============================] - 0s 9ms/step - loss: 0.0058 - val_loss: 0.0841\n",
      "Epoch 68/100\n",
      "4/4 [==============================] - 0s 9ms/step - loss: 0.0055 - val_loss: 0.0846\n",
      "Epoch 69/100\n",
      "4/4 [==============================] - 0s 9ms/step - loss: 0.0052 - val_loss: 0.0843\n",
      "Epoch 70/100\n",
      "4/4 [==============================] - 0s 9ms/step - loss: 0.0049 - val_loss: 0.0837\n",
      "Epoch 71/100\n",
      "4/4 [==============================] - 0s 9ms/step - loss: 0.0051 - val_loss: 0.0835\n",
      "Epoch 72/100\n",
      "4/4 [==============================] - 0s 9ms/step - loss: 0.0051 - val_loss: 0.0852\n",
      "Epoch 73/100\n",
      "4/4 [==============================] - 0s 9ms/step - loss: 0.0047 - val_loss: 0.0866\n",
      "Epoch 74/100\n",
      "4/4 [==============================] - 0s 9ms/step - loss: 0.0045 - val_loss: 0.0871\n",
      "Epoch 75/100\n",
      "4/4 [==============================] - 0s 11ms/step - loss: 0.0043 - val_loss: 0.0870\n",
      "Epoch 76/100\n",
      "4/4 [==============================] - 0s 10ms/step - loss: 0.0042 - val_loss: 0.0870\n",
      "Epoch 77/100\n",
      "4/4 [==============================] - 0s 9ms/step - loss: 0.0041 - val_loss: 0.0866\n",
      "Epoch 78/100\n",
      "4/4 [==============================] - 0s 10ms/step - loss: 0.0040 - val_loss: 0.0860\n",
      "Epoch 79/100\n",
      "4/4 [==============================] - 0s 11ms/step - loss: 0.0039 - val_loss: 0.0857\n",
      "Epoch 80/100\n",
      "4/4 [==============================] - 0s 11ms/step - loss: 0.0038 - val_loss: 0.0858\n",
      "Epoch 81/100\n",
      "4/4 [==============================] - 0s 10ms/step - loss: 0.0043 - val_loss: 0.0857\n",
      "Epoch 82/100\n",
      "4/4 [==============================] - 0s 10ms/step - loss: 0.0037 - val_loss: 0.0855\n",
      "Epoch 83/100\n",
      "4/4 [==============================] - 0s 10ms/step - loss: 0.0037 - val_loss: 0.0852\n",
      "Epoch 84/100\n",
      "4/4 [==============================] - 0s 10ms/step - loss: 0.0036 - val_loss: 0.0830\n",
      "Epoch 85/100\n",
      "4/4 [==============================] - 0s 9ms/step - loss: 0.0033 - val_loss: 0.0823\n",
      "Epoch 86/100\n",
      "4/4 [==============================] - 0s 8ms/step - loss: 0.0036 - val_loss: 0.0828\n",
      "Epoch 87/100\n",
      "4/4 [==============================] - 0s 8ms/step - loss: 0.0032 - val_loss: 0.0839\n",
      "Epoch 88/100\n",
      "4/4 [==============================] - 0s 8ms/step - loss: 0.0040 - val_loss: 0.0825\n",
      "Epoch 89/100\n",
      "4/4 [==============================] - 0s 10ms/step - loss: 0.0033 - val_loss: 0.0812\n",
      "Epoch 90/100\n",
      "4/4 [==============================] - 0s 9ms/step - loss: 0.0031 - val_loss: 0.0820\n",
      "Epoch 91/100\n",
      "4/4 [==============================] - 0s 9ms/step - loss: 0.0028 - val_loss: 0.0840\n",
      "Epoch 92/100\n",
      "4/4 [==============================] - 0s 9ms/step - loss: 0.0025 - val_loss: 0.0852\n",
      "Epoch 93/100\n",
      "4/4 [==============================] - 0s 8ms/step - loss: 0.0025 - val_loss: 0.0849\n",
      "Epoch 94/100\n",
      "4/4 [==============================] - 0s 9ms/step - loss: 0.0022 - val_loss: 0.0839\n",
      "Epoch 95/100\n",
      "4/4 [==============================] - 0s 8ms/step - loss: 0.0021 - val_loss: 0.0833\n",
      "Epoch 96/100\n",
      "4/4 [==============================] - 0s 8ms/step - loss: 0.0028 - val_loss: 0.0839\n",
      "Epoch 97/100\n",
      "4/4 [==============================] - 0s 8ms/step - loss: 0.0020 - val_loss: 0.0848\n",
      "Epoch 98/100\n",
      "4/4 [==============================] - 0s 8ms/step - loss: 0.0028 - val_loss: 0.0864\n",
      "Epoch 99/100\n",
      "4/4 [==============================] - 0s 9ms/step - loss: 0.0026 - val_loss: 0.0827\n",
      "Epoch 100/100\n",
      "4/4 [==============================] - 0s 9ms/step - loss: 0.0022 - val_loss: 0.0811\n",
      "Mean Squared Error on test data: 0.06\n"
     ]
    }
   ],
   "source": [
    "import numpy as np\n",
    "import tensorflow as tf\n",
    "from tensorflow.keras.models import Sequential\n",
    "from tensorflow.keras.layers import Dense\n",
    "from sklearn.preprocessing import StandardScaler\n",
    "from sklearn.model_selection import train_test_split\n",
    "from sklearn.metrics import mean_squared_error\n",
    "\n",
    "\n",
    "data = pd.read_csv(\"Desktop/bank_note_data.csv\")\n",
    "from sklearn.model_selection import train_test_split\n",
    "X_train, X_test, y_train, y_test = train_test_split(X, y, test_size=0.3)\n",
    "\n",
    "# Normalize features using StandardScaler\n",
    "scaler = StandardScaler()\n",
    "X_train_scaled = scaler.fit_transform(X_train)\n",
    "X_test_scaled = scaler.transform(X_test)\n",
    "\n",
    "# Build the model\n",
    "model = Sequential([\n",
    "    Dense(64, activation='relu', input_shape=(X_train_scaled.shape[1],)),\n",
    "    Dense(64, activation='relu'),\n",
    "    Dense(1)  # Output layer with one neuron for regression\n",
    "])\n",
    "# Compile the model\n",
    "model.compile(optimizer='adam', loss='mean_squared_error')\n",
    "# Train the model\n",
    "model.fit(X_train_scaled, y_train, epochs=100, batch_size=32, verbose=1, validation_split=0.2)\n",
    "\n",
    "# Evaluate the model\n",
    "y_pred = model.predict(X_test_scaled)\n",
    "mse = mean_squared_error(y_test, y_pred)\n",
    "print(f'Mean Squared Error on test data: {mse:.2f}')"
   ]
  },
  {
   "cell_type": "code",
   "execution_count": 108,
   "id": "e4056806",
   "metadata": {},
   "outputs": [],
   "source": [
    "#DEEP LEARNING- QUESTION 2 \n",
    "#Train a Pure ANN with less than 10000 trainable parameters using the MNIST Dataset"
   ]
  },
  {
   "cell_type": "code",
   "execution_count": 82,
   "id": "7516a002",
   "metadata": {},
   "outputs": [
    {
     "name": "stdout",
     "output_type": "stream",
     "text": [
      "Downloading data from https://storage.googleapis.com/tensorflow/tf-keras-datasets/mnist.npz\n",
      "11493376/11490434 [==============================] - 2s 0us/step\n",
      "11501568/11490434 [==============================] - 2s 0us/step\n",
      "Model: \"sequential\"\n",
      "_________________________________________________________________\n",
      " Layer (type)                Output Shape              Param #   \n",
      "=================================================================\n",
      " flatten (Flatten)           (None, 784)               0         \n",
      "                                                                 \n",
      " dense (Dense)               (None, 64)                50240     \n",
      "                                                                 \n",
      " dense_1 (Dense)             (None, 32)                2080      \n",
      "                                                                 \n",
      " dense_2 (Dense)             (None, 10)                330       \n",
      "                                                                 \n",
      "=================================================================\n",
      "Total params: 52,650\n",
      "Trainable params: 52,650\n",
      "Non-trainable params: 0\n",
      "_________________________________________________________________\n",
      "Epoch 1/10\n",
      "1500/1500 [==============================] - 3s 2ms/step - loss: 0.3212 - accuracy: 0.9084 - val_loss: 0.1856 - val_accuracy: 0.9472\n",
      "Epoch 2/10\n",
      "1500/1500 [==============================] - 2s 2ms/step - loss: 0.1513 - accuracy: 0.9554 - val_loss: 0.1238 - val_accuracy: 0.9638\n",
      "Epoch 3/10\n",
      "1500/1500 [==============================] - 2s 1ms/step - loss: 0.1095 - accuracy: 0.9672 - val_loss: 0.1201 - val_accuracy: 0.9670\n",
      "Epoch 4/10\n",
      "1500/1500 [==============================] - 2s 2ms/step - loss: 0.0889 - accuracy: 0.9732 - val_loss: 0.1193 - val_accuracy: 0.9659\n",
      "Epoch 5/10\n",
      "1500/1500 [==============================] - 2s 2ms/step - loss: 0.0726 - accuracy: 0.9777 - val_loss: 0.1004 - val_accuracy: 0.9700\n",
      "Epoch 6/10\n",
      "1500/1500 [==============================] - 2s 1ms/step - loss: 0.0632 - accuracy: 0.9805 - val_loss: 0.1106 - val_accuracy: 0.9686\n",
      "Epoch 7/10\n",
      "1500/1500 [==============================] - 2s 2ms/step - loss: 0.0510 - accuracy: 0.9845 - val_loss: 0.1085 - val_accuracy: 0.9708\n",
      "Epoch 8/10\n",
      "1500/1500 [==============================] - 2s 2ms/step - loss: 0.0461 - accuracy: 0.9856 - val_loss: 0.1108 - val_accuracy: 0.9696\n",
      "Epoch 9/10\n",
      "1500/1500 [==============================] - 3s 2ms/step - loss: 0.0400 - accuracy: 0.9871 - val_loss: 0.1113 - val_accuracy: 0.9714\n",
      "Epoch 10/10\n",
      "1500/1500 [==============================] - 2s 2ms/step - loss: 0.0349 - accuracy: 0.9886 - val_loss: 0.1055 - val_accuracy: 0.9727\n",
      "313/313 [==============================] - 1s 2ms/step - loss: 0.1080 - accuracy: 0.9705\n",
      "Test accuracy: 0.9704999923706055\n"
     ]
    }
   ],
   "source": [
    "import numpy as np\n",
    "import tensorflow as tf\n",
    "from tensorflow.keras.datasets import mnist\n",
    "from tensorflow.keras.models import Sequential\n",
    "from tensorflow.keras.layers import Dense, Flatten\n",
    "from tensorflow.keras.utils import to_categorical\n",
    "\n",
    "# Load MNIST dataset\n",
    "(X_train, y_train), (X_test, y_test) = mnist.load_data()\n",
    "\n",
    "# Normalize pixel values to be between 0 and 1\n",
    "X_train = X_train / 255.0\n",
    "X_test = X_test / 255.0\n",
    "\n",
    "# Flatten the images\n",
    "X_train_flat = X_train.reshape(X_train.shape[0], -1)\n",
    "X_test_flat = X_test.reshape(X_test.shape[0], -1)\n",
    "\n",
    "# One-hot encode the labels\n",
    "y_train_one_hot = to_categorical(y_train)\n",
    "y_test_one_hot = to_categorical(y_test)\n",
    "\n",
    "# Build a simple ANN model\n",
    "model = Sequential([\n",
    "    Flatten(input_shape=(28, 28)),\n",
    "    Dense(64, activation='relu'),\n",
    "    Dense(32, activation='relu'),\n",
    "    Dense(10, activation='softmax')\n",
    "])\n",
    "\n",
    "# Compile the model\n",
    "model.compile(optimizer='adam', loss='categorical_crossentropy', metrics=['accuracy'])\n",
    "\n",
    "# Print model summary\n",
    "model.summary()\n",
    "\n",
    "# Train the model\n",
    "model.fit(X_train, y_train_one_hot, epochs=10, batch_size=32, validation_split=0.2)\n",
    "\n",
    "# Evaluate the model on test data\n",
    "test_loss, test_acc = model.evaluate(X_test, y_test_one_hot)\n",
    "print(\"Test accuracy:\", test_acc)\n"
   ]
  },
  {
   "cell_type": "code",
   "execution_count": null,
   "id": "96e1e8ae",
   "metadata": {},
   "outputs": [],
   "source": []
  }
 ],
 "metadata": {
  "kernelspec": {
   "display_name": "Python 3 (ipykernel)",
   "language": "python",
   "name": "python3"
  },
  "language_info": {
   "codemirror_mode": {
    "name": "ipython",
    "version": 3
   },
   "file_extension": ".py",
   "mimetype": "text/x-python",
   "name": "python",
   "nbconvert_exporter": "python",
   "pygments_lexer": "ipython3",
   "version": "3.8.12"
  }
 },
 "nbformat": 4,
 "nbformat_minor": 5
}
